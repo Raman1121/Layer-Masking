{
 "cells": [
  {
   "cell_type": "code",
   "execution_count": 4,
   "id": "d24786b9",
   "metadata": {},
   "outputs": [
    {
     "name": "stderr",
     "output_type": "stream",
     "text": [
      "/home/co-dutt1/.conda/envs/pytorch/lib/python3.10/site-packages/tqdm/auto.py:22: TqdmWarning: IProgress not found. Please update jupyter and ipywidgets. See https://ipywidgets.readthedocs.io/en/stable/user_install.html\n",
      "  from .autonotebook import tqdm as notebook_tqdm\n"
     ]
    }
   ],
   "source": [
    "import os\n",
    "import re\n",
    "import pandas as pd\n",
    "import numpy as np\n",
    "import matplotlib.pyplot as plt\n",
    "plt.rcParams['text.usetex'] = True\n",
    "\n",
    "import timm\n",
    "import torch\n",
    "import torch.nn as nn\n",
    "\n",
    "from scipy.spatial import distance\n",
    "import seaborn as sns"
   ]
  },
  {
   "cell_type": "code",
   "execution_count": 17,
   "id": "23dce1de",
   "metadata": {},
   "outputs": [],
   "source": [
    "def disable_module(module):\n",
    "    for p in module.parameters():\n",
    "        p.requires_grad = False\n",
    "        \n",
    "def enable_module(module):\n",
    "    for p in module.parameters():\n",
    "        p.requires_grad = True\n",
    "\n",
    "\n",
    "def check_tunable_params(model, verbose=True):\n",
    "    \"\"\"\n",
    "    Prints the number of trainable parameters in the model.\n",
    "    \"\"\"\n",
    "    trainable_params = 0\n",
    "    all_param = 0\n",
    "    \n",
    "    for name, param in model.named_parameters():\n",
    "        all_param += param.numel()\n",
    "        if param.requires_grad:\n",
    "            if(verbose):\n",
    "                print(name)\n",
    "            trainable_params += param.numel()\n",
    "    print(\n",
    "        f\"trainable params: {trainable_params} || all params: {all_param} || trainable%: {100 * trainable_params / all_param:.5f}\"\n",
    "    )\n",
    "\n",
    "    return trainable_params, all_param\n",
    "\n",
    "def create_mapping(model, vector):\n",
    "    mapping = {}\n",
    "    i = 0\n",
    "\n",
    "    for name_p,p in model.named_parameters():\n",
    "        if '.attn.' in name_p or 'attention' in name_p:\n",
    "            mapping[name_p] = vector[i]\n",
    "            i += 1\n",
    "        else:\n",
    "            p.requires_grad = False\n",
    "            \n",
    "    return mapping\n",
    "\n",
    "def sort_dict(dict, descending=False):\n",
    "    sorted_dict = dict(sorted(dict.items(), key=lambda item: item[1], reverse=descending))\n",
    "    \n",
    "    return sorted_dict\n",
    "\n",
    "def get_modules_from_vector(vector, model):\n",
    "    trainable_blocks = []\n",
    "    frozen_blocks = []\n",
    "    \n",
    "    trainable_blocks = np.where(np.array(vector) == 1)\n",
    "    frozen_blocks = np.where(np.array(vector) == 0)\n",
    "    \n",
    "    return trainable_blocks, frozen_blocks\n",
    "\n",
    "def get_model_for_bitfit(model):\n",
    "    trainable_components = ['bias', 'pooler.dense.bias', 'head'] \n",
    "\n",
    "    # Disale all the gradients\n",
    "    for param in model.parameters():\n",
    "        param.requires_grad = False \n",
    "      \n",
    "    vector = []\n",
    "\n",
    "    for name, param in model.named_parameters():\n",
    "        for component in trainable_components:\n",
    "            if component in name:\n",
    "                vector.append(1)\n",
    "                param.requires_grad = True\n",
    "                break\n",
    "    \n",
    "    return vector\n",
    "\n",
    "def enable_from_vector(vector, model):\n",
    "    print(\"Vector: \", vector)\n",
    "    \n",
    "    disable_module(model)\n",
    "    \n",
    "    for idx, block in enumerate(model.blocks): \n",
    "    \n",
    "        if(vector[idx] == 1):\n",
    "            print(\"Enabling attention in Block {}\".format(idx))\n",
    "            enable_module(block.attn)\n",
    "        else:\n",
    "            #print(\"Disabling attention in Block {}\".format(idx))\n",
    "            disable_module(block.attn)\n",
    "\n",
    "def create_best_worst_vectors(df, k=10):\n",
    "    \n",
    "    best_df = df.sort_values(by=['Test Acc@1'], ascending=False).head(k).reset_index(drop=True)\n",
    "    worst_df = df.sort_values(by=['Test Acc@1'], ascending=True).head(k).reset_index(drop=True)\n",
    "\n",
    "    best_vector = np.array([0]*48)\n",
    "\n",
    "    for i in range(len(best_df)):\n",
    "        vector_path = best_df['Vector Path'][i]\n",
    "        vector = np.load(vector_path)\n",
    "        print(len(vector))\n",
    "        best_vector += vector\n",
    "\n",
    "    worst_vector = np.array([0]*48)\n",
    "\n",
    "    for i in range(len(worst_df)):\n",
    "        vector_path = worst_df['Vector Path'][i]\n",
    "        vector = np.load(vector_path)\n",
    "        worst_vector += vector\n",
    "\n",
    "    return best_vector, worst_vector\n",
    "\n",
    "def tune_blocks_random(model, mask, segment):\n",
    "\n",
    "    vector = []\n",
    "\n",
    "    for idx, block in enumerate(model.blocks):\n",
    "\n",
    "        if(mask is None):\n",
    "            bit = int(np.random.random(1)[0] > 0.5)\n",
    "        else:\n",
    "            bit = mask[idx]\n",
    "\n",
    "        if(bit == 1):\n",
    "            print(\"Enabling {} in Block {}\".format(segment, idx))\n",
    "            if(segment == 'attention'):\n",
    "                enable_module(block.attn)\n",
    "            elif(segment == 'layernorm'):\n",
    "                enable_module(block.norm1)\n",
    "                enable_module(block.norm2)\n",
    "\n",
    "            vector.append(1)\n",
    "        else:\n",
    "            print(\"Disabling {} in Block {}\".format(segment, idx))\n",
    "            if(segment == 'attention'):\n",
    "                disable_module(block.attn)\n",
    "            elif(segment == 'layernorm'):\n",
    "                disable_module(block.norm1)\n",
    "                disable_module(block.norm2)\n",
    "            \n",
    "            vector.append(0)\n",
    "    \n",
    "    if(mask is not None):\n",
    "        assert (mask == vector)\n",
    "        \n",
    "    return vector"
   ]
  },
  {
   "attachments": {},
   "cell_type": "markdown",
   "id": "02583d34",
   "metadata": {},
   "source": [
    "## Attention Tuning (Parameter Level)"
   ]
  },
  {
   "attachments": {},
   "cell_type": "markdown",
   "id": "924aba6e",
   "metadata": {},
   "source": [
    "### BreastUS Dataset"
   ]
  },
  {
   "cell_type": "code",
   "execution_count": null,
   "id": "f02ada5d",
   "metadata": {},
   "outputs": [],
   "source": [
    "dataset = 'breastUS'\n",
    "base_path = '/home/co-dutt1/rds/hpc-work/Layer-Masking/'\n",
    "csv = base_path + 'vit_base/' + dataset + '/tune_attention_random_vit_base_0.0001.csv'\n",
    "\n",
    "df = pd.read_csv(csv)\n",
    "df.head()"
   ]
  },
  {
   "cell_type": "code",
   "execution_count": null,
   "id": "ee76988e",
   "metadata": {},
   "outputs": [],
   "source": [
    "mean_acc = df['Test Acc@1'].mean()\n",
    "std_acc = df['Test Acc@1'].std()\n",
    "max_acc = df['Test Acc@1'].max()\n",
    "min_acc = df['Test Acc@1'].min()\n",
    "avg_train_percent = df['Train Percent'].mean()\n",
    "diff = max_acc - min_acc\n",
    "best_train_percent = df[df['Test Acc@1'] == max_acc]['Train Percent'].values[0]\n",
    "\n",
    "print(\"Mean Acc: \", mean_acc)\n",
    "print(\"Std Acc: \", std_acc)\n",
    "print(\"Max Acc: \", max_acc)\n",
    "print(\"Min Acc: \", min_acc)\n",
    "print(\"Avg Train Percent: \", avg_train_percent)\n",
    "print(\"Best Performance Train Percent: \", best_train_percent)\n",
    "print(\"Diff: \", diff)"
   ]
  },
  {
   "cell_type": "code",
   "execution_count": null,
   "id": "a2c3133c",
   "metadata": {},
   "outputs": [],
   "source": [
    "k = 10\n",
    "best_df = df.sort_values(by=['Test Acc@1'], ascending=False).head(k).reset_index(drop=True)\n",
    "worst_df = df.sort_values(by=['Test Acc@1'], ascending=True).head(k).reset_index(drop=True)\n",
    "\n",
    "print(len(best_df), len(worst_df))\n",
    "worst_df"
   ]
  },
  {
   "cell_type": "code",
   "execution_count": null,
   "id": "7d5049d0",
   "metadata": {},
   "outputs": [],
   "source": [
    "best_vector = np.array([0]*12*4)\n",
    "\n",
    "for i in range(len(best_df)):\n",
    "    vector_path = best_df['Vector Path'][i]\n",
    "    vector = np.load(vector_path)\n",
    "    best_vector += vector\n",
    "\n",
    "worst_vector = np.array([0]*12*4)\n",
    "\n",
    "for i in range(len(worst_df)):\n",
    "    vector_path = worst_df['Vector Path'][i]\n",
    "    vector = np.load(vector_path)\n",
    "    worst_vector += vector\n",
    "\n",
    "best_vector, worst_vector"
   ]
  },
  {
   "cell_type": "code",
   "execution_count": null,
   "id": "74be692e",
   "metadata": {},
   "outputs": [],
   "source": [
    "best_block_wise_count = {}\n",
    "block_idx = 0\n",
    "\n",
    "for i in range(0, len(best_vector), 4):\n",
    "    \n",
    "    best_block_wise_count['Block {}'.format(block_idx)] = best_vector[i:i+4]\n",
    "    block_idx += 1\n",
    "    \n",
    "worst_block_wise_count = {}\n",
    "block_idx = 0\n",
    "\n",
    "for i in range(0, len(worst_vector), 4):\n",
    "    \n",
    "    worst_block_wise_count['Block {}'.format(block_idx)] = worst_vector[i:i+4]\n",
    "    block_idx += 1"
   ]
  },
  {
   "attachments": {},
   "cell_type": "markdown",
   "id": "0c025ebd",
   "metadata": {},
   "source": [
    "### Which parameters are being activated the most in each block?\n"
   ]
  },
  {
   "cell_type": "code",
   "execution_count": null,
   "id": "5e433ec6",
   "metadata": {},
   "outputs": [],
   "source": [
    "# Create the subplots\n",
    "fig, axs = plt.subplots(4, 3, figsize=(12, 16))\n",
    "xtick_labels = [r'$qkv_w$', r'$qkv_b$', r'$proj_w$', r'$proj_b$']\n",
    "\n",
    "axs = axs.flatten()\n",
    "xtick_positions = [0,1,2,3]\n",
    "\n",
    "for i, all_data in enumerate(zip(best_block_wise_count.items(), worst_block_wise_count.items())):\n",
    "    \n",
    "    dict1_data = all_data[0]\n",
    "    dict2_data = all_data[1]\n",
    "    title = dict1_data[0]\n",
    "    ax = axs[i]  \n",
    "\n",
    "    # Create the bar plot\n",
    "    ax.bar(range(4), dict1_data[1], label='Best Performing')\n",
    "    ax.bar(range(4), dict2_data[1], label='Worst Performing')\n",
    "    ax.set_title(title)\n",
    "    ax.set_xticks(xtick_positions)\n",
    "    ax.set_xticklabels(xtick_labels)\n",
    "    ax.legend()\n",
    "    #ax.set_xlabel('Parameters')\n",
    "    #ax.set_ylabel('Selection Count')\n",
    "    \n",
    "# Adjust the spacing between subplots\n",
    "plt.tight_layout()\n",
    "\n",
    "# Display the plot\n",
    "plt.show()"
   ]
  },
  {
   "attachments": {},
   "cell_type": "markdown",
   "id": "1611a04d",
   "metadata": {},
   "source": [
    "## Fitzpatrick Dataset"
   ]
  },
  {
   "cell_type": "code",
   "execution_count": null,
   "id": "15864b4f",
   "metadata": {},
   "outputs": [],
   "source": [
    "dataset = 'fitzpatrick'\n",
    "base_path = '/home/co-dutt1/rds/hpc-work/Layer-Masking/'\n",
    "csv = base_path + 'vit_base/' + dataset + '/tune_attention_random_vit_base_0.0001.csv'\n",
    "\n",
    "df = pd.read_csv(csv)\n",
    "df.head()"
   ]
  },
  {
   "cell_type": "code",
   "execution_count": null,
   "id": "a8a23bae",
   "metadata": {},
   "outputs": [],
   "source": [
    "mean_acc = df['Test Acc@1'].mean()\n",
    "std_acc = df['Test Acc@1'].std()\n",
    "max_acc = df['Test Acc@1'].max()\n",
    "min_acc = df['Test Acc@1'].min()\n",
    "avg_train_percent = df['Train Percent'].mean()\n",
    "diff = max_acc - min_acc\n",
    "best_train_percent = df[df['Test Acc@1'] == max_acc]['Train Percent'].values[0]\n",
    "\n",
    "print(\"Mean Acc: \", mean_acc)\n",
    "print(\"Std Acc: \", std_acc)\n",
    "print(\"Max Acc: \", max_acc)\n",
    "print(\"Min Acc: \", min_acc)\n",
    "print(\"Avg Train Percent: \", avg_train_percent)\n",
    "print(\"Best Performance Train Percent: \", best_train_percent)\n",
    "print(\"Diff: \", diff)"
   ]
  },
  {
   "cell_type": "code",
   "execution_count": null,
   "id": "e1e00d62",
   "metadata": {},
   "outputs": [],
   "source": [
    "k = 10\n",
    "best_df = df.sort_values(by=['Test Acc@1'], ascending=False).head(k).reset_index(drop=True)\n",
    "worst_df = df.sort_values(by=['Test Acc@1'], ascending=True).head(k).reset_index(drop=True)\n",
    "\n",
    "print(len(best_df), len(worst_df))\n",
    "worst_df"
   ]
  },
  {
   "cell_type": "code",
   "execution_count": null,
   "id": "33dbe644",
   "metadata": {},
   "outputs": [],
   "source": [
    "best_vector = np.array([0]*12*4)\n",
    "\n",
    "for i in range(len(best_df)):\n",
    "    vector_path = best_df['Vector Path'][i]\n",
    "    vector = np.load(vector_path)\n",
    "    best_vector += vector\n",
    "\n",
    "worst_vector = np.array([0]*12*4)\n",
    "\n",
    "for i in range(len(worst_df)):\n",
    "    vector_path = worst_df['Vector Path'][i]\n",
    "    vector = np.load(vector_path)\n",
    "    worst_vector += vector\n",
    "\n",
    "best_vector, worst_vector"
   ]
  },
  {
   "cell_type": "code",
   "execution_count": null,
   "id": "4b6cede1",
   "metadata": {},
   "outputs": [],
   "source": [
    "best_block_wise_count = {}\n",
    "block_idx = 0\n",
    "\n",
    "for i in range(0, len(best_vector), 4):\n",
    "    \n",
    "    best_block_wise_count['Block {}'.format(block_idx)] = best_vector[i:i+4]\n",
    "    block_idx += 1\n",
    "    \n",
    "worst_block_wise_count = {}\n",
    "block_idx = 0\n",
    "\n",
    "for i in range(0, len(worst_vector), 4):\n",
    "    \n",
    "    worst_block_wise_count['Block {}'.format(block_idx)] = worst_vector[i:i+4]\n",
    "    block_idx += 1"
   ]
  },
  {
   "attachments": {},
   "cell_type": "markdown",
   "id": "c58ba8a0",
   "metadata": {},
   "source": [
    "### Which parameters are being activated the most in each block?"
   ]
  },
  {
   "cell_type": "code",
   "execution_count": null,
   "id": "00f9bdd0",
   "metadata": {},
   "outputs": [],
   "source": [
    "# Create the subplots\n",
    "fig, axs = plt.subplots(4, 3, figsize=(12, 16))\n",
    "xtick_labels = [r'$qkv_w$', r'$qkv_b$', r'$proj_w$', r'$proj_b$']\n",
    "\n",
    "axs = axs.flatten()\n",
    "xtick_positions = [0,1,2,3]\n",
    "\n",
    "for i, all_data in enumerate(zip(best_block_wise_count.items(), worst_block_wise_count.items())):\n",
    "    \n",
    "    dict1_data = all_data[0]\n",
    "    dict2_data = all_data[1]\n",
    "    title = dict1_data[0]\n",
    "    ax = axs[i]  \n",
    "\n",
    "    # Create the bar plot\n",
    "    ax.bar(range(4), dict1_data[1], label='Best Performing')\n",
    "    ax.bar(range(4), dict2_data[1], label='Worst Performing')\n",
    "    ax.set_title(title)\n",
    "    ax.set_xticks(xtick_positions)\n",
    "    ax.set_xticklabels(xtick_labels)\n",
    "    ax.legend()\n",
    "    #ax.set_xlabel('Parameters')\n",
    "    #ax.set_ylabel('Selection Count')\n",
    "    \n",
    "# Adjust the spacing between subplots\n",
    "plt.tight_layout()\n",
    "\n",
    "# Display the plot\n",
    "plt.show()"
   ]
  },
  {
   "attachments": {},
   "cell_type": "markdown",
   "id": "575d0fd0",
   "metadata": {},
   "source": [
    "## HAM10000 Dataset"
   ]
  },
  {
   "cell_type": "code",
   "execution_count": null,
   "id": "f7831a91",
   "metadata": {},
   "outputs": [],
   "source": [
    "dataset = 'HAM10000'\n",
    "base_path = '/home/co-dutt1/rds/hpc-work/Layer-Masking/'\n",
    "csv = base_path + 'vit_base/' + dataset + '/tune_attention_random_vit_base_0.0001.csv'\n",
    "\n",
    "df = pd.read_csv(csv)\n",
    "df.head()"
   ]
  },
  {
   "cell_type": "code",
   "execution_count": null,
   "id": "1ebe316a",
   "metadata": {},
   "outputs": [],
   "source": [
    "mean_acc = df['Test Acc@1'].mean()\n",
    "std_acc = df['Test Acc@1'].std()\n",
    "max_acc = df['Test Acc@1'].max()\n",
    "min_acc = df['Test Acc@1'].min()\n",
    "avg_train_percent = df['Train Percent'].mean()\n",
    "diff = max_acc - min_acc\n",
    "best_train_percent = df[df['Test Acc@1'] == max_acc]['Train Percent'].values[0]\n",
    "\n",
    "print(\"Mean Acc: \", mean_acc)\n",
    "print(\"Std Acc: \", std_acc)\n",
    "print(\"Max Acc: \", max_acc)\n",
    "print(\"Min Acc: \", min_acc)\n",
    "print(\"Avg Train Percent: \", avg_train_percent)\n",
    "print(\"Best Performance Train Percent: \", best_train_percent)\n",
    "print(\"Diff: \", diff)"
   ]
  },
  {
   "cell_type": "code",
   "execution_count": null,
   "id": "17b6ca38",
   "metadata": {},
   "outputs": [],
   "source": [
    "k = 10\n",
    "best_df = df.sort_values(by=['Test Acc@1'], ascending=False).head(k).reset_index(drop=True)\n",
    "worst_df = df.sort_values(by=['Test Acc@1'], ascending=True).head(k).reset_index(drop=True)\n",
    "\n",
    "print(len(best_df), len(worst_df))\n",
    "worst_df"
   ]
  },
  {
   "cell_type": "code",
   "execution_count": null,
   "id": "512e33d3",
   "metadata": {},
   "outputs": [],
   "source": [
    "best_vector = np.array([0]*12*4)\n",
    "\n",
    "for i in range(len(best_df)):\n",
    "    vector_path = best_df['Vector Path'][i]\n",
    "    vector = np.load(vector_path)\n",
    "    best_vector += vector\n",
    "\n",
    "worst_vector = np.array([0]*12*4)\n",
    "\n",
    "for i in range(len(worst_df)):\n",
    "    vector_path = worst_df['Vector Path'][i]\n",
    "    vector = np.load(vector_path)\n",
    "    worst_vector += vector\n",
    "\n",
    "best_vector, worst_vector"
   ]
  },
  {
   "cell_type": "code",
   "execution_count": null,
   "id": "862f9a43",
   "metadata": {},
   "outputs": [],
   "source": [
    "best_block_wise_count = {}\n",
    "block_idx = 0\n",
    "\n",
    "for i in range(0, len(best_vector), 4):\n",
    "    \n",
    "    best_block_wise_count['Block {}'.format(block_idx)] = best_vector[i:i+4]\n",
    "    block_idx += 1\n",
    "    \n",
    "worst_block_wise_count = {}\n",
    "block_idx = 0\n",
    "\n",
    "for i in range(0, len(worst_vector), 4):\n",
    "    \n",
    "    worst_block_wise_count['Block {}'.format(block_idx)] = worst_vector[i:i+4]\n",
    "    block_idx += 1"
   ]
  },
  {
   "attachments": {},
   "cell_type": "markdown",
   "id": "d3835887",
   "metadata": {},
   "source": [
    "### Which parameters are being activated the most in each block?"
   ]
  },
  {
   "cell_type": "code",
   "execution_count": null,
   "id": "4192a33a",
   "metadata": {},
   "outputs": [],
   "source": [
    "# Create the subplots\n",
    "fig, axs = plt.subplots(4, 3, figsize=(12, 16))\n",
    "xtick_labels = [r'$qkv_w$', r'$qkv_b$', r'$proj_w$', r'$proj_b$']\n",
    "\n",
    "axs = axs.flatten()\n",
    "xtick_positions = [0,1,2,3]\n",
    "\n",
    "for i, all_data in enumerate(zip(best_block_wise_count.items(), worst_block_wise_count.items())):\n",
    "    \n",
    "    dict1_data = all_data[0]\n",
    "    dict2_data = all_data[1]\n",
    "    title = dict1_data[0]\n",
    "    ax = axs[i]  \n",
    "\n",
    "    # Create the bar plot\n",
    "    ax.bar(range(4), dict1_data[1], label='Best Performing')\n",
    "    ax.bar(range(4), dict2_data[1], label='Worst Performing')\n",
    "    ax.set_title(title)\n",
    "    ax.set_xticks(xtick_positions)\n",
    "    ax.set_xticklabels(xtick_labels)\n",
    "    ax.legend()\n",
    "    #ax.set_xlabel('Parameters')\n",
    "    #ax.set_ylabel('Selection Count')\n",
    "    \n",
    "# Adjust the spacing between subplots\n",
    "plt.tight_layout()\n",
    "\n",
    "# Display the plot\n",
    "plt.show()"
   ]
  },
  {
   "attachments": {},
   "cell_type": "markdown",
   "id": "3529a4cb",
   "metadata": {},
   "source": [
    "# Analysing for all datasets at once"
   ]
  },
  {
   "cell_type": "code",
   "execution_count": 2,
   "id": "82e2bae6",
   "metadata": {},
   "outputs": [],
   "source": [
    "def last_row_to_first(df):\n",
    "    last_row = df.iloc[-1]\n",
    "    df = pd.concat([last_row.to_frame().T, df], ignore_index=True)\n",
    "    df = df.drop(df.index[-1]).reset_index(drop=True)\n",
    "\n",
    "    return df\n",
    "\n",
    "def get_best_row(df):\n",
    "    best_row = df.sort_values(by=['Test Acc@1'], ascending=False).head(1).reset_index(drop=True)\n",
    "    return best_row"
   ]
  },
  {
   "cell_type": "code",
   "execution_count": 6,
   "id": "85aca30c",
   "metadata": {},
   "outputs": [
    {
     "name": "stderr",
     "output_type": "stream",
     "text": [
      "/tmp/ipykernel_18302/994109804.py:13: FutureWarning: The frame.append method is deprecated and will be removed from pandas in a future version. Use pandas.concat instead.\n",
      "  df_breastUS = df_breastUS.append(best_row, ignore_index=True)\n",
      "/tmp/ipykernel_18302/994109804.py:22: FutureWarning: The frame.append method is deprecated and will be removed from pandas in a future version. Use pandas.concat instead.\n",
      "  df_fitzpatrick = df_fitzpatrick.append(best_row, ignore_index=True)\n",
      "/tmp/ipykernel_18302/994109804.py:31: FutureWarning: The frame.append method is deprecated and will be removed from pandas in a future version. Use pandas.concat instead.\n",
      "  df_ham10k = df_ham10k.append(best_row, ignore_index=True)\n",
      "/tmp/ipykernel_18302/994109804.py:40: FutureWarning: The frame.append method is deprecated and will be removed from pandas in a future version. Use pandas.concat instead.\n",
      "  df_smdg = df_smdg.append(best_row, ignore_index=True)\n",
      "/tmp/ipykernel_18302/994109804.py:49: FutureWarning: The frame.append method is deprecated and will be removed from pandas in a future version. Use pandas.concat instead.\n",
      "  df_retinopathy = df_retinopathy.append(best_row, ignore_index=True)\n",
      "/tmp/ipykernel_18302/994109804.py:58: FutureWarning: The frame.append method is deprecated and will be removed from pandas in a future version. Use pandas.concat instead.\n",
      "  df_CIFAR10 = df_CIFAR10.append(best_row, ignore_index=True)\n",
      "/tmp/ipykernel_18302/994109804.py:67: FutureWarning: The frame.append method is deprecated and will be removed from pandas in a future version. Use pandas.concat instead.\n",
      "  df_CIFAR100 = df_CIFAR100.append(best_row, ignore_index=True)\n"
     ]
    }
   ],
   "source": [
    "base_path = '/home/co-dutt1/rds/hpc-work/Layer-Masking/'\n",
    "\n",
    "csv_name = 'Fixed_Vectors_tune_attention_params_random_vit_base.csv'\n",
    "csv_name2 = 'Fixed_Vectors_tune_attention_vit_base.csv'\n",
    "model = 'vit_base'\n",
    "\n",
    "dataset = 'breastUS'\n",
    "csv = os.path.join(base_path, model, dataset, csv_name)\n",
    "csv2 = os.path.join(base_path, model, dataset, csv_name2)\n",
    "df_breastUS = pd.read_csv(csv)\n",
    "df2 = pd.read_csv(csv2)\n",
    "best_row = get_best_row(df2)\n",
    "df_breastUS = df_breastUS.append(best_row, ignore_index=True)\n",
    "df_breastUS = last_row_to_first(df_breastUS)\n",
    "\n",
    "dataset = 'fitzpatrick'\n",
    "csv = os.path.join(base_path, model, dataset, csv_name)\n",
    "csv2 = os.path.join(base_path, model, dataset, csv_name2)\n",
    "df_fitzpatrick = pd.read_csv(csv)\n",
    "df2 = pd.read_csv(csv2)\n",
    "best_row = get_best_row(df2)\n",
    "df_fitzpatrick = df_fitzpatrick.append(best_row, ignore_index=True)\n",
    "df_fitzpatrick = last_row_to_first(df_fitzpatrick)\n",
    "\n",
    "dataset = 'HAM10000'\n",
    "csv = os.path.join(base_path, model, dataset, csv_name)\n",
    "csv2 = os.path.join(base_path, model, dataset, csv_name2)\n",
    "df_ham10k = pd.read_csv(csv)\n",
    "df2 = pd.read_csv(csv2)\n",
    "best_row = get_best_row(df2)\n",
    "df_ham10k = df_ham10k.append(best_row, ignore_index=True)\n",
    "df_ham10k = last_row_to_first(df_ham10k)\n",
    "\n",
    "dataset = 'smdg'\n",
    "csv = os.path.join(base_path, model, dataset, csv_name)\n",
    "csv2 = os.path.join(base_path, model, dataset, csv_name2)\n",
    "df_smdg = pd.read_csv(csv)\n",
    "df2 = pd.read_csv(csv2)\n",
    "best_row = get_best_row(df2)\n",
    "df_smdg = df_smdg.append(best_row, ignore_index=True)\n",
    "df_smdg = last_row_to_first(df_smdg)\n",
    "\n",
    "dataset = 'retinopathy'\n",
    "csv = os.path.join(base_path, model, dataset, csv_name)\n",
    "csv2 = os.path.join(base_path, model, dataset, csv_name2)\n",
    "df_retinopathy = pd.read_csv(csv)\n",
    "df2 = pd.read_csv(csv2)\n",
    "best_row = get_best_row(df2)\n",
    "df_retinopathy = df_retinopathy.append(best_row, ignore_index=True)\n",
    "df_retinopathy = last_row_to_first(df_retinopathy)\n",
    "\n",
    "dataset = 'CIFAR10'\n",
    "csv = os.path.join(base_path, model, dataset, csv_name)\n",
    "csv2 = os.path.join(base_path, model, dataset, csv_name2)\n",
    "df_CIFAR10 = pd.read_csv(csv)\n",
    "df2 = pd.read_csv(csv2)\n",
    "best_row = get_best_row(df2)\n",
    "df_CIFAR10 = df_CIFAR10.append(best_row, ignore_index=True)\n",
    "df_CIFAR10 = last_row_to_first(df_CIFAR10)\n",
    "\n",
    "dataset = 'CIFAR100'\n",
    "csv = os.path.join(base_path, model, dataset, csv_name)\n",
    "csv2 = os.path.join(base_path, model, dataset, csv_name2)\n",
    "df_CIFAR100 = pd.read_csv(csv)\n",
    "df2 = pd.read_csv(csv2)\n",
    "best_row = get_best_row(df2)\n",
    "df_CIFAR100 = df_CIFAR100.append(best_row, ignore_index=True)\n",
    "df_CIFAR100 = last_row_to_first(df_CIFAR100)\n",
    "\n",
    "# dataset = 'pneumonia'\n",
    "# csv = os.path.join(base_path, model, dataset, csv_name)\n",
    "# csv2 = os.path.join(base_path, model, dataset, csv_name2)\n",
    "# df_pneumonia = pd.read_csv(csv)\n",
    "# df2 = pd.read_csv(csv2)\n",
    "# best_row = get_best_row(df2)\n",
    "# df_pneumonia = df_pneumonia.append(best_row, ignore_index=True)\n",
    "# df_pneumonia = last_row_to_first(df_pneumonia)\n",
    "\n",
    "# dataset_dict = {'breastUS': df_breastUS, 'fitzpatrick': df_fitzpatrick, 'HAM10000': df_ham10k, 'smdg': df_smdg, 'retinopathy': df_retinopathy, 'CIFAR10': df_CIFAR10, 'CIFAR100': df_CIFAR100, 'pneumonia': df_pneumonia}\n",
    "dataset_dict = {'breastUS': df_breastUS, 'fitzpatrick': df_fitzpatrick, 'HAM10000': df_ham10k, 'smdg': df_smdg, 'retinopathy': df_retinopathy, 'CIFAR10': df_CIFAR10, 'CIFAR100': df_CIFAR100}"
   ]
  },
  {
   "cell_type": "code",
   "execution_count": 8,
   "id": "dee894ed",
   "metadata": {},
   "outputs": [
    {
     "data": {
      "text/plain": [
       "(76, 76, 76, 76, 76, 76, 76)"
      ]
     },
     "execution_count": 8,
     "metadata": {},
     "output_type": "execute_result"
    }
   ],
   "source": [
    "#len(df_breastUS), len(df_fitzpatrick), len(df_ham10k), len(df_retinopathy), len(df_CIFAR10), len(df_CIFAR100), len(df_pneumonia), len(df_smdg)\n",
    "len(df_breastUS), len(df_fitzpatrick), len(df_ham10k), len(df_retinopathy), len(df_CIFAR10), len(df_CIFAR100), len(df_smdg)"
   ]
  },
  {
   "attachments": {},
   "cell_type": "markdown",
   "id": "f19b2a47",
   "metadata": {},
   "source": [
    "### How does selective attention fine-tuning (parameter level) compare to full-attention fine-tuning?"
   ]
  },
  {
   "cell_type": "code",
   "execution_count": 10,
   "id": "696e7f89",
   "metadata": {},
   "outputs": [
    {
     "name": "stdout",
     "output_type": "stream",
     "text": [
      "Dataset:  breastUS\n",
      "Best Performing Method:  tune_attention_params_random\n",
      "Best Test Acc:  93.50649350649353\n",
      "Full Attention FT:  89.51077922077921\n",
      "Difference:  3.995714285714314\n",
      "\n",
      "\n",
      "Dataset:  fitzpatrick\n",
      "Best Performing Method:  tune_attention_params_random\n",
      "Best Test Acc:  84.82198625858838\n",
      "Full Attention FT:  80.82299812617114\n",
      "Difference:  3.9989881324172387\n",
      "\n",
      "\n",
      "Dataset:  HAM10000\n",
      "Best Performing Method:  tune_attention_params_random\n",
      "Best Test Acc:  91.8081918081918\n",
      "Full Attention FT:  90.4095904095904\n",
      "Difference:  1.3986013986014\n",
      "\n",
      "\n",
      "Dataset:  smdg\n",
      "Best Performing Method:  tune_attention_params_random\n",
      "Best Test Acc:  89.6103896103896\n",
      "Full Attention FT:  89.12337662337663\n",
      "Difference:  0.48701298701297446\n",
      "\n",
      "\n",
      "Dataset:  retinopathy\n",
      "Best Performing Method:  tune_attention_params_random\n",
      "Best Test Acc:  77.5626423690205\n",
      "Full Attention FT:  72.89293849658314\n",
      "Difference:  4.669703872437353\n",
      "\n",
      "\n",
      "Dataset:  CIFAR10\n",
      "Best Performing Method:  tune_attention_params_random\n",
      "Best Test Acc:  99.08\n",
      "Full Attention FT:  98.89\n",
      "Difference:  0.18999999999999773\n",
      "\n",
      "\n",
      "Dataset:  CIFAR100\n",
      "Best Performing Method:  tune_attention_params_random\n",
      "Best Test Acc:  92.95\n",
      "Full Attention FT:  92.46\n",
      "Difference:  0.4900000000000091\n",
      "\n",
      "\n"
     ]
    }
   ],
   "source": [
    "best_performance = []\n",
    "full_attention = []\n",
    "\n",
    "for dataset in dataset_dict.keys():\n",
    "    df = dataset_dict[dataset]\n",
    "    print(\"Dataset: \", dataset)\n",
    "    print(\"Best Performing Method: \", df[df['Test Acc@1'] == df['Test Acc@1'].max()]['Tuning Method'].values[0])\n",
    "    print(\"Best Test Acc: \", df['Test Acc@1'].max())\n",
    "    print(\"Full Attention FT: \", df[df['Tuning Method'] == 'tune_attention']['Test Acc@1'].values[0])\n",
    "    print(\"Difference: \", df['Test Acc@1'].max() - df[df['Tuning Method'] == 'tune_attention']['Test Acc@1'].values[0])\n",
    "    print(\"\\n\")\n",
    "    best_performance.append(df['Test Acc@1'].max())\n",
    "    full_attention.append(df[df['Tuning Method'] == 'tune_attention']['Test Acc@1'].values[0])\n",
    "    "
   ]
  },
  {
   "cell_type": "code",
   "execution_count": 11,
   "id": "9c49c287",
   "metadata": {},
   "outputs": [
    {
     "data": {
      "text/plain": [
       "<matplotlib.legend.Legend at 0x2b9b44073be0>"
      ]
     },
     "execution_count": 11,
     "metadata": {},
     "output_type": "execute_result"
    },
    {
     "data": {
      "image/png": "[encoded data removed]",
      "text/plain": [
       "<Figure size 1000x1200 with 1 Axes>"
      ]
     },
     "metadata": {},
     "output_type": "display_data"
    }
   ],
   "source": [
    "import matplotlib.pyplot as plt\n",
    "import numpy as np\n",
    "\n",
    "# Set the width of the bars\n",
    "bar_width = 0.35\n",
    "\n",
    "# Calculate the x-axis positions for the bars\n",
    "x = np.arange(len(dataset_dict.keys()))\n",
    "y = np.arange(0, 101, 5)\n",
    "\n",
    "# Create the figure and axis objects\n",
    "fig, ax = plt.subplots(figsize=(10, 12))\n",
    "\n",
    "# Difference between the two bars\n",
    "diff = np.array(best_performance) - np.array(full_attention)\n",
    "\n",
    "# Plot the bars\n",
    "ax.bar(x - bar_width/2, best_performance, width=bar_width, label='Selective Attention')\n",
    "ax.bar(x + bar_width/2, full_attention, width=bar_width, label='Full Attention')\n",
    "\n",
    "# Set the x-axis tick positions and labels\n",
    "ax.set_xticks(x)\n",
    "ax.set_yticks(y)\n",
    "ax.set_xticklabels(list(dataset_dict.keys()))\n",
    "ax.set_yticklabels(list(range(0, 101, 5)))\n",
    "ax.set_xlabel('Dataset')\n",
    "ax.set_ylabel('Test Accuracy')\n",
    "\n",
    "# Set the legend\n",
    "ax.legend()\n",
    "\n",
    "# Display the plot\n",
    "#plt.show()\n",
    "\n",
    "#plt.savefig('../plots/selective_vs_full_attention_parameter_level.png')\n"
   ]
  },
  {
   "attachments": {},
   "cell_type": "markdown",
   "id": "51fe6215",
   "metadata": {},
   "source": [
    "### Comparing Block Selection b/w best and worst performing vectors"
   ]
  },
  {
   "cell_type": "code",
   "execution_count": 19,
   "id": "d6ab1dcb",
   "metadata": {},
   "outputs": [
    {
     "name": "stdout",
     "output_type": "stream",
     "text": [
      "0\n",
      "48\n",
      "48\n",
      "48\n",
      "48\n",
      "48\n",
      "48\n",
      "48\n",
      "12\n"
     ]
    },
    {
     "ename": "ValueError",
     "evalue": "operands could not be broadcast together with shapes (48,) (12,) (48,) ",
     "output_type": "error",
     "traceback": [
      "\u001b[0;31m---------------------------------------------------------------------------\u001b[0m",
      "\u001b[0;31mValueError\u001b[0m                                Traceback (most recent call last)",
      "Cell \u001b[0;32mIn[19], line 15\u001b[0m\n\u001b[1;32m     13\u001b[0m df \u001b[39m=\u001b[39m all_datasets[i]\n\u001b[1;32m     14\u001b[0m \u001b[39mprint\u001b[39m(i)\n\u001b[0;32m---> 15\u001b[0m best_vector, worst_vector \u001b[39m=\u001b[39m create_best_worst_vectors(df)\n\u001b[1;32m     16\u001b[0m _best \u001b[39m+\u001b[39m\u001b[39m=\u001b[39m best_vector\n\u001b[1;32m     17\u001b[0m _worst \u001b[39m+\u001b[39m\u001b[39m=\u001b[39m worst_vector\n",
      "Cell \u001b[0;32mIn[17], line 99\u001b[0m, in \u001b[0;36mcreate_best_worst_vectors\u001b[0;34m(df, k)\u001b[0m\n\u001b[1;32m     97\u001b[0m     vector \u001b[39m=\u001b[39m np\u001b[39m.\u001b[39mload(vector_path)\n\u001b[1;32m     98\u001b[0m     \u001b[39mprint\u001b[39m(\u001b[39mlen\u001b[39m(vector))\n\u001b[0;32m---> 99\u001b[0m     best_vector \u001b[39m+\u001b[39m\u001b[39m=\u001b[39m vector\n\u001b[1;32m    101\u001b[0m worst_vector \u001b[39m=\u001b[39m np\u001b[39m.\u001b[39marray([\u001b[39m0\u001b[39m]\u001b[39m*\u001b[39m\u001b[39m48\u001b[39m)\n\u001b[1;32m    103\u001b[0m \u001b[39mfor\u001b[39;00m i \u001b[39min\u001b[39;00m \u001b[39mrange\u001b[39m(\u001b[39mlen\u001b[39m(worst_df)):\n",
      "\u001b[0;31mValueError\u001b[0m: operands could not be broadcast together with shapes (48,) (12,) (48,) "
     ]
    }
   ],
   "source": [
    "# Sort all the dataframes\n",
    "\n",
    "k = 10\n",
    "\n",
    "#all_datasets = [df_breastUS, df_fitzpatrick, df_smdg, df_ham10k, df_retinopathy, df_CIFAR10, df_CIFAR100, df_pneumonia]\n",
    "all_datasets = [df_breastUS, df_fitzpatrick, df_smdg, df_ham10k, df_retinopathy, df_CIFAR10, df_CIFAR100]\n",
    "\n",
    "_best = np.array([0]*48)\n",
    "_worst = np.array([0]*48)\n",
    "\n",
    "#for df in all_datasets:\n",
    "for i in range(len(all_datasets)):\n",
    "    df = all_datasets[i]\n",
    "    print(i)\n",
    "    best_vector, worst_vector = create_best_worst_vectors(df)\n",
    "    _best += best_vector\n",
    "    _worst += worst_vector\n",
    "\n",
    "_best"
   ]
  },
  {
   "cell_type": "code",
   "execution_count": 7,
   "id": "7ab30b58",
   "metadata": {},
   "outputs": [
    {
     "data": {
      "image/png": "[encoded data removed]",
      "text/plain": [
       "<Figure size 1200x1600 with 12 Axes>"
      ]
     },
     "metadata": {},
     "output_type": "display_data"
    },
    {
     "data": {
      "text/plain": [
       "<Figure size 640x480 with 0 Axes>"
      ]
     },
     "metadata": {},
     "output_type": "display_data"
    }
   ],
   "source": [
    "# Create the subplots\n",
    "fig, axs = plt.subplots(4, 3, figsize=(12, 16))\n",
    "xtick_labels = [r'$qkv_w$', r'$qkv_b$', r'$proj_w$', r'$proj_b$']\n",
    "\n",
    "axs = axs.flatten()\n",
    "xtick_positions = [0,1,2,3]\n",
    "\n",
    "for i, all_data in enumerate(zip(result_dict_best.items(), result_dict_worst.items())):\n",
    "    \n",
    "    dict1_data = all_data[0]\n",
    "    dict2_data = all_data[1]\n",
    "    title = dict1_data[0]\n",
    "    ax = axs[i]  \n",
    "\n",
    "    # Create the bar plot\n",
    "    ax.bar(range(4), dict1_data[1], label='Best Performing')\n",
    "    ax.bar(range(4), dict2_data[1], label='Worst Performing')\n",
    "    ax.set_title(title)\n",
    "    ax.set_xticks(xtick_positions)\n",
    "    ax.set_xticklabels(xtick_labels)\n",
    "    ax.legend()\n",
    "    #ax.set_xlabel('Parameters')\n",
    "    #ax.set_ylabel('Selection Count')\n",
    "    \n",
    "# Adjust the spacing between subplots\n",
    "plt.tight_layout()\n",
    "\n",
    "# Display the plot\n",
    "plt.show()\n",
    "plt.savefig('vit-b_best_worst_parameter_level.png')"
   ]
  },
  {
   "cell_type": "code",
   "execution_count": null,
   "id": "bca361a7",
   "metadata": {},
   "outputs": [],
   "source": []
  }
 ],
 "metadata": {
  "kernelspec": {
   "display_name": "Python 3 (ipykernel)",
   "language": "python",
   "name": "python3"
  },
  "language_info": {
   "codemirror_mode": {
    "name": "ipython",
    "version": 3
   },
   "file_extension": ".py",
   "mimetype": "text/x-python",
   "name": "python",
   "nbconvert_exporter": "python",
   "pygments_lexer": "ipython3",
   "version": "3.10.4"
  }
 },
 "nbformat": 4,
 "nbformat_minor": 5
}
